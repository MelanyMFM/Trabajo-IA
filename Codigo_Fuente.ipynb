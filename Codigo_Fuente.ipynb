{
  "cells": [
    {
      "cell_type": "markdown",
      "metadata": {
        "id": "txx6-irnODRr"
      },
      "source": [
        "# Lógica Difusa"
      ]
    },
    {
      "cell_type": "code",
      "execution_count": 1,
      "metadata": {
        "colab": {
          "base_uri": "https://localhost:8080/"
        },
        "id": "_tCwnPQFOOvC",
        "outputId": "ddb2bc93-d0a7-4de3-83d9-ce2d277cb19b"
      },
      "outputs": [
        {
          "name": "stderr",
          "output_type": "stream",
          "text": [
            "WARNING: Ignoring invalid distribution -ip (c:\\python310\\lib\\site-packages)\n",
            "WARNING: Ignoring invalid distribution -ip (c:\\python310\\lib\\site-packages)\n",
            "WARNING: Ignoring invalid distribution -ip (c:\\python310\\lib\\site-packages)\n",
            "WARNING: Ignoring invalid distribution -ip (c:\\python310\\lib\\site-packages)\n",
            "WARNING: Ignoring invalid distribution -ip (c:\\python310\\lib\\site-packages)\n",
            "WARNING: Ignoring invalid distribution -ip (c:\\python310\\lib\\site-packages)\n",
            "WARNING: Ignoring invalid distribution -ip (c:\\python310\\lib\\site-packages)\n"
          ]
        }
      ],
      "source": [
        "!pip install -q scikit-fuzzy"
      ]
    },
    {
      "cell_type": "code",
      "execution_count": null,
      "metadata": {
        "colab": {
          "base_uri": "https://localhost:8080/",
          "height": 451
        },
        "id": "iP6-BmQvoMId",
        "outputId": "d851c194-8b15-4da9-99b3-cb900c545fe5"
      },
      "outputs": [],
      "source": [
        "# -------------------------------------------------------------------------\n",
        "# SISTEMA DE LÓGICA DIFUSA PARA MAPEAR UN NUEVO JUGADOR DE CYBERPUNK 2077\n",
        "# -------------------------------------------------------------------------\n",
        "\n",
        "# --- IMPORTACIÓN DE LIBRERÍAS ---\n",
        "import numpy as np\n",
        "import skfuzzy as fuzz\n",
        "from skfuzzy import control as ctrl\n",
        "import matplotlib.pyplot as plt\n",
        "\n",
        "# --- FUNCIONES MODIFICADORAS ---\n",
        "def concentracion(conjunto_fuzzy_term):\n",
        "    return conjunto_fuzzy_term.mf ** 2\n",
        "\n",
        "def dilatacion(conjunto_fuzzy_term):\n",
        "    return conjunto_fuzzy_term.mf ** (1/2)\n",
        "\n",
        "# --- ANTECEDENTES (Todas las variables de entrada del jugador) ---\n",
        "# Los universos son 0-10 para la mayoría, 0-100 para puntería.\n",
        "# mom = más o menos\n",
        "\n",
        "# 1. Experiencia en Juegos de Acción\n",
        "exp_accion = ctrl.Antecedent(np.arange(0,11,0.1), 'exp_accion')\n",
        "exp_accion['poca'] = fuzz.trimf(exp_accion.universe, [0, 0, 2.5])\n",
        "exp_accion['media'] = fuzz.gaussmf(exp_accion.universe, 5, 1)\n",
        "exp_accion['mom_media'] = dilatacion(exp_accion.terms['media'])\n",
        "exp_accion['alta'] = fuzz.trapmf(exp_accion.universe, [6, 8, 10, 10])\n",
        "exp_accion['muy_alta'] = concentracion(exp_accion.terms['alta'])\n",
        "\n",
        "# 2. Experiencia en Juegos de Rol\n",
        "exp_rol = ctrl.Antecedent(np.arange(0,11,0.1), 'exp_accion')\n",
        "exp_rol['poca'] = fuzz.trimf(exp_rol.universe, [0, 0, 2.5])\n",
        "exp_rol['media'] = fuzz.gaussmf(exp_rol.universe, 5, 1)\n",
        "exp_rol['mom_media'] = dilatacion(exp_rol.terms['media'])\n",
        "exp_rol['alta'] = fuzz.trapmf(exp_rol.universe, [6, 8, 10, 10])\n",
        "exp_rol['muy_alta'] = concentracion(exp_rol.terms['alta'])\n",
        "\n",
        "# 3. Puntería en Juegos de Disparos\n",
        "punteria = ctrl.Antecedent(np.arange(0, 101, 0.1), 'punteria')\n",
        "punteria['baja'] = fuzz.trimf(punteria.universe, [0, 0, 20])\n",
        "punteria['muy_baja'] = concentracion(punteria.terms['baja'])\n",
        "punteria['media'] = fuzz.gaussmf(punteria.universe, 50, 10)\n",
        "punteria['mom_media'] = dilatacion(punteria.terms['media'])\n",
        "punteria['alta'] = fuzz.trimf(punteria.universe, [75, 100, 100])\n",
        "punteria['muy_alta'] = concentracion(punteria.terms['alta'])\n",
        "\n",
        "# 4. Habilidad en Sigilo\n",
        "sigilo = ctrl.Antecedent(np.arange(0,11,0.1), 'sigilo')\n",
        "sigilo['bajo'] = fuzz.zmf(sigilo.universe, 1, 4.5)\n",
        "sigilo['muy_bajo'] = concentracion(sigilo.terms['bajo'])\n",
        "sigilo['medio'] = fuzz.trimf(sigilo.universe, [3,5,7])\n",
        "sigilo['mom_medio'] = dilatacion(sigilo.terms['medio'])\n",
        "sigilo['alto'] = fuzz.trimf(sigilo.universe, [6,10,10])\n",
        "sigilo['muy_alto'] = concentracion(sigilo.terms['alto'])\n",
        "\n",
        "# 5. Agresividad en Juegos\n",
        "agresividad = ctrl.Antecedent(np.arange(0,11,0.1), 'agresividad')\n",
        "agresividad['peacemaker'] = fuzz.gaussmf(agresividad.universe, 0, 1.2)\n",
        "agresividad['normal'] = fuzz.trapmf(agresividad.universe, [2, 4, 6, 8])\n",
        "agresividad['mom_normal'] = dilatacion(agresividad.terms['normal'])\n",
        "agresividad['agresivo'] = fuzz.gbellmf(agresividad.universe, 2, 2, 11)\n",
        "agresividad['berserker'] = concentracion(agresividad.terms['agresivo'])\n",
        "\n",
        "# 6. Interés en el Hacking\n",
        "hacking = ctrl.Antecedent(np.arange(0,11,0.1), 'hacking')\n",
        "hacking['nulo'] = fuzz.trimf(hacking.universe, [0, 0, 3])\n",
        "hacking['bajo'] = dilatacion(hacking.terms['nulo'])\n",
        "hacking['inicial'] = fuzz.trimf(hacking.universe, [2,3,5])\n",
        "hacking['moderado'] = fuzz.trapmf(hacking.universe, [3, 4, 6, 7])\n",
        "hacking['alto'] = fuzz.gbellmf(hacking.universe, 2, 2, 11)\n",
        "hacking['fanático'] = concentracion(hacking.terms['alto'])\n",
        "\n",
        "# 7. Dificultad Preferida\n",
        "dificultad = ctrl.Antecedent(np.arange(0,11,0.1), 'dificultad')\n",
        "dificultad['facil'] = fuzz.gaussmf(dificultad.universe, 0, 1.5)\n",
        "dificultad['muy_facil'] = concentracion(dificultad.terms['facil'])\n",
        "dificultad['normal'] = fuzz.trapmf(dificultad.universe, [2, 4, 6, 8])\n",
        "dificultad['dificil'] = fuzz.gbellmf(dificultad.universe, 1.5, 2, 8.5)\n",
        "dificultad['extrema'] = fuzz.trimf(dificultad.universe, [8, 10, 10])\n",
        "\n",
        "\n",
        "# --- CONSECUENTES (Afinidad para cada Build) ---\n",
        "# Universo de afinidad: 0-100 (representando porcentaje de afinidad)\n",
        "universo_afinidad = np.arange(0, 101, 1)\n",
        "\n",
        "# 1. Afinidad NetRunner (Hacking)\n",
        "afin_netrunner = ctrl.Consequent(universo_afinidad, 'afin_netrunner')\n",
        "afin_netrunner['baja'] = fuzz.trapmf(afin_netrunner.universe, [0, 0, 20, 40])\n",
        "afin_netrunner['media'] = fuzz.trapmf(afin_netrunner.universe, [30, 50, 70, 90])\n",
        "afin_netrunner['alta'] = fuzz.trapmf(afin_netrunner.universe, [60, 80, 100, 100])\n",
        "\n",
        "# 2. Afinidad One Man Army (Tanque/Solo)\n",
        "afin_onemanarmy = ctrl.Consequent(universo_afinidad, 'afin_onemanarmy')\n",
        "afin_onemanarmy['baja'] = fuzz.trapmf(afin_onemanarmy.universe, [0, 0, 20, 40])\n",
        "afin_onemanarmy['media'] = fuzz.trapmf(afin_onemanarmy.universe, [30, 50, 70, 90])\n",
        "afin_onemanarmy['alta'] = fuzz.trapmf(afin_onemanarmy.universe, [60, 80, 100, 100])\n",
        "\n",
        "# 3. Afinidad CyberNinja (Cuerpo a cuerpo ágil)\n",
        "afin_cyberninja = ctrl.Consequent(universo_afinidad, 'afin_cyberninja')\n",
        "afin_cyberninja['baja'] = fuzz.trapmf(afin_cyberninja.universe, [0, 0, 20, 40])\n",
        "afin_cyberninja['media'] = fuzz.trapmf(afin_cyberninja.universe, [30, 50, 70, 90])\n",
        "afin_cyberninja['alta'] = fuzz.trapmf(afin_cyberninja.universe, [60, 80, 100, 100])\n",
        "\n",
        "# 4. Afinidad Stealth Ghost (Sigilo con armas silenciadas / no letales)\n",
        "afin_stealthghost = ctrl.Consequent(universo_afinidad, 'afin_stealthghost')\n",
        "afin_stealthghost['baja'] = fuzz.trapmf(afin_stealthghost.universe, [0, 0, 20, 40])\n",
        "afin_stealthghost['media'] = fuzz.trapmf(afin_stealthghost.universe, [30, 50, 70, 90])\n",
        "afin_stealthghost['alta'] = fuzz.trapmf(afin_stealthghost.universe, [60, 80, 100, 100])\n",
        "\n",
        "# 5. Afinidad Gunslinger Shoota' (Pistolas/Precisión a distancia)\n",
        "afin_gunslinger = ctrl.Consequent(universo_afinidad, 'afin_gunslinger')\n",
        "afin_gunslinger['baja'] = fuzz.trapmf(afin_gunslinger.universe, [0, 0, 20, 40])\n",
        "afin_gunslinger['media'] = fuzz.trapmf(afin_gunslinger.universe, [30, 50, 70, 90])\n",
        "afin_gunslinger['alta'] = fuzz.trapmf(afin_gunslinger.universe, [60, 80, 100, 100])\n",
        "\n",
        "# --- VISUALIZACIÓN FUNCIONES DE PERTENENCIA ---\n",
        "#exp_accion.view()\n",
        "#exp_rol.view()\n",
        "#punteria.view()\n",
        "#sigilo.view()\n",
        "#agresividad.view()\n",
        "#hacking.view()\n",
        "#dificultad.view()\n",
        "\n",
        "# --- DEFINICIÓN DE REGLAS DIFUSAS ---"
      ]
    },
    {
      "cell_type": "markdown",
      "metadata": {
        "id": "mM3K3Gk1OGZE"
      },
      "source": [
        "# Ontología"
      ]
    },
    {
      "cell_type": "code",
      "execution_count": 1,
      "metadata": {
        "colab": {
          "base_uri": "https://localhost:8080/"
        },
        "collapsed": true,
        "id": "uEr29GO1OPG7",
        "outputId": "ba1ebfbd-edf5-4d95-93b2-e2963dd0aae2"
      },
      "outputs": [
        {
          "name": "stdout",
          "output_type": "stream",
          "text": [
            "Collecting rdflib\n",
            "  Downloading rdflib-7.1.4-py3-none-any.whl.metadata (11 kB)\n",
            "Requirement already satisfied: pyparsing<4,>=2.1.0 in /usr/local/lib/python3.11/dist-packages (from rdflib) (3.2.3)\n",
            "Downloading rdflib-7.1.4-py3-none-any.whl (565 kB)\n",
            "\u001b[2K   \u001b[90m━━━━━━━━━━━━━━━━━━━━━━━━━━━━━━━━━━━━━━━━\u001b[0m \u001b[32m565.1/565.1 kB\u001b[0m \u001b[31m6.6 MB/s\u001b[0m eta \u001b[36m0:00:00\u001b[0m\n",
            "\u001b[?25hInstalling collected packages: rdflib\n",
            "Successfully installed rdflib-7.1.4\n",
            "Collecting owlrl\n",
            "  Downloading owlrl-7.1.3-py3-none-any.whl.metadata (3.6 kB)\n",
            "Requirement already satisfied: rdflib>=7.1.3 in /usr/local/lib/python3.11/dist-packages (from owlrl) (7.1.4)\n",
            "Requirement already satisfied: pyparsing<4,>=2.1.0 in /usr/local/lib/python3.11/dist-packages (from rdflib>=7.1.3->owlrl) (3.2.3)\n",
            "Downloading owlrl-7.1.3-py3-none-any.whl (51 kB)\n",
            "\u001b[2K   \u001b[90m━━━━━━━━━━━━━━━━━━━━━━━━━━━━━━━━━━━━━━━━\u001b[0m \u001b[32m51.9/51.9 kB\u001b[0m \u001b[31m1.9 MB/s\u001b[0m eta \u001b[36m0:00:00\u001b[0m\n",
            "\u001b[?25hInstalling collected packages: owlrl\n",
            "Successfully installed owlrl-7.1.3\n"
          ]
        }
      ],
      "source": [
        "!pip install rdflib\n",
        "!pip install owlrl"
      ]
    },
    {
      "cell_type": "code",
      "execution_count": 2,
      "metadata": {
        "colab": {
          "base_uri": "https://localhost:8080/"
        },
        "id": "IAgisrLU7lAU",
        "outputId": "583d74df-d6be-47a9-9928-326d8bc94798"
      },
      "outputs": [
        {
          "data": {
            "text/plain": [
              "<Graph identifier=N42928fe4d7214a7e93c5b39732f2478e (<class 'rdflib.graph.Graph'>)>"
            ]
          },
          "execution_count": 2,
          "metadata": {},
          "output_type": "execute_result"
        }
      ],
      "source": [
        "# Importaciones necesarias\n",
        "\n",
        "from rdflib import Graph, Namespace, RDF, RDFS, Literal, URIRef, XSD\n",
        "from rdflib.namespace import FOAF, DC\n",
        "\n",
        "# Crear grafo\n",
        "g = Graph()\n",
        "\n",
        "# Namespace base\n",
        "EX = Namespace(\"http://example.org/cyberpunk#\")\n",
        "g.bind(\"ex\", EX)\n",
        "g.bind(\"foaf\", FOAF)\n",
        "g.bind(\"dc\", DC)\n",
        "\n",
        "# Clases\n",
        "g.add((EX.Build, RDF.type, RDFS.Class))\n",
        "g.add((EX.Habilidade, RDF.type, RDFS.Class))\n",
        "g.add((EX.Arma, RDF.type, RDFS.Class))\n",
        "g.add((EX.Implante, RDF.type, RDFS.Class))\n",
        "g.add((EX.Jugador, RDF.type, RDFS.Class))\n",
        "g.add((EX.Estadistica, RDF.type, RDFS.Class))\n",
        "g.add((EX.Habilidad, RDF.type, RDFS.Class))\n",
        "g.add((EX.EstiloDeJuego, RDF.type, RDFS.Class))\n",
        "g.add((EX.Afinidad, RDF.type, RDFS.Class))\n",
        "g.add((EX.Categoria, RDF.type, RDFS.Class))\n",
        "g.add((EX.Equipo, RDF.type, RDFS.Class))\n",
        "\n",
        "# Jerarquía de Clases\n",
        "g.add((EX.ArmaMelee, RDFS.subClassOf, EX.Arma))\n",
        "g.add((EX.ArmaDistancia, RDFS.subClassOf, EX.Arma))\n",
        "g.add((EX.ImplanteOfensivo, RDFS.subClassOf, EX.Implante))\n",
        "\n"
      ]
    },
    {
      "cell_type": "markdown",
      "metadata": {
        "id": "cSt8F1sON-YE"
      },
      "source": [
        "# Sistema Experto"
      ]
    },
    {
      "cell_type": "code",
      "execution_count": null,
      "metadata": {
        "id": "PxVzot9pOOE7"
      },
      "outputs": [],
      "source": []
    }
  ],
  "metadata": {
    "colab": {
      "provenance": [],
      "toc_visible": true
    },
    "kernelspec": {
      "display_name": "Python 3",
      "name": "python3"
    },
    "language_info": {
      "codemirror_mode": {
        "name": "ipython",
        "version": 3
      },
      "file_extension": ".py",
      "mimetype": "text/x-python",
      "name": "python",
      "nbconvert_exporter": "python",
      "pygments_lexer": "ipython3",
      "version": "3.10.6"
    }
  },
  "nbformat": 4,
  "nbformat_minor": 0
}
